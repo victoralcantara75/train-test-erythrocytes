{
  "nbformat": 4,
  "nbformat_minor": 0,
  "metadata": {
    "colab": {
      "name": "CNN_SVM.ipynb",
      "provenance": [],
      "collapsed_sections": [],
      "authorship_tag": "ABX9TyMJcfzJtthAxGzyeqZSqZiO"
    },
    "kernelspec": {
      "name": "python3",
      "display_name": "Python 3"
    },
    "accelerator": "GPU"
  },
  "cells": [
    {
      "cell_type": "markdown",
      "metadata": {
        "id": "WM4SGzyvh_dh"
      },
      "source": [
        "Fontes: \n",
        "\n",
        "* https://www.kaggle.com/ozdemirh/flower-recognition-with-transfer-learning-and-svm\n",
        "\n",
        "* https://www.kaggle.com/andyc97/image-classification-pca-svm-logit-and-cnn"
      ]
    },
    {
      "cell_type": "code",
      "metadata": {
        "id": "JTmM0XqmBoqe"
      },
      "source": [
        "from google.colab import drive\n",
        "\n",
        "import os\n",
        "\n",
        "import numpy as np\n",
        "import pandas as pd\n",
        "\n",
        "import seaborn as sea\n",
        "\n",
        "import tensorflow as tf\n",
        "from tensorflow.keras.applications.mobilenet import MobileNet\n",
        "from tensorflow.keras.applications.vgg16 import VGG16\n",
        "from tensorflow.keras.preprocessing import image\n",
        "from tensorflow.keras.applications.mobilenet import preprocess_input\n",
        "from tensorflow.keras.layers import Dense, Dropout\n",
        "from tensorflow.keras.models import Sequential\n",
        "from tensorflow.keras.regularizers import l2\n",
        "\n",
        "from sklearn.model_selection import train_test_split\n",
        "from sklearn.metrics import classification_report\n",
        "from sklearn.preprocessing import OneHotEncoder\n",
        "from sklearn.utils import shuffle\n",
        "from sklearn import svm\n",
        "\n",
        "import matplotlib.pyplot as plt\n",
        "import matplotlib.gridspec as gridspec"
      ],
      "execution_count": 1,
      "outputs": []
    },
    {
      "cell_type": "code",
      "metadata": {
        "id": "BUSkawS7B3Ja",
        "outputId": "80fc251c-d3a5-40cd-abcf-229fdbf81a78",
        "colab": {
          "base_uri": "https://localhost:8080/"
        }
      },
      "source": [
        "drive.mount('/content/gdrive')"
      ],
      "execution_count": 2,
      "outputs": [
        {
          "output_type": "stream",
          "text": [
            "Drive already mounted at /content/gdrive; to attempt to forcibly remount, call drive.mount(\"/content/gdrive\", force_remount=True).\n"
          ],
          "name": "stdout"
        }
      ]
    },
    {
      "cell_type": "code",
      "metadata": {
        "id": "O95kozTsda78"
      },
      "source": [
        "classes = [\"circular\", \"falciforme\", \"outras\"]\n",
        "path_train = \"/content/gdrive/My Drive/Colab Notebooks/dataset/dataset_erythrocytes/round_1/train/\"\n",
        "path_test = \"/content/gdrive/My Drive/Colab Notebooks/dataset/dataset_erythrocytes/round_1/test/\""
      ],
      "execution_count": 3,
      "outputs": []
    },
    {
      "cell_type": "code",
      "metadata": {
        "id": "gN7B927idmfL",
        "outputId": "3ed527ef-5e2a-4390-ecf2-bb34ebea342b",
        "colab": {
          "base_uri": "https://localhost:8080/"
        }
      },
      "source": [
        "# load pretrained MobileNet\n",
        "model = VGG16(input_shape=(224,224,3), include_top=True)\n",
        "#model = MobileNet(input_shape=(224,224,3), include_top=True)\n",
        "model.summary()"
      ],
      "execution_count": 4,
      "outputs": [
        {
          "output_type": "stream",
          "text": [
            "Model: \"vgg16\"\n",
            "_________________________________________________________________\n",
            "Layer (type)                 Output Shape              Param #   \n",
            "=================================================================\n",
            "input_1 (InputLayer)         [(None, 224, 224, 3)]     0         \n",
            "_________________________________________________________________\n",
            "block1_conv1 (Conv2D)        (None, 224, 224, 64)      1792      \n",
            "_________________________________________________________________\n",
            "block1_conv2 (Conv2D)        (None, 224, 224, 64)      36928     \n",
            "_________________________________________________________________\n",
            "block1_pool (MaxPooling2D)   (None, 112, 112, 64)      0         \n",
            "_________________________________________________________________\n",
            "block2_conv1 (Conv2D)        (None, 112, 112, 128)     73856     \n",
            "_________________________________________________________________\n",
            "block2_conv2 (Conv2D)        (None, 112, 112, 128)     147584    \n",
            "_________________________________________________________________\n",
            "block2_pool (MaxPooling2D)   (None, 56, 56, 128)       0         \n",
            "_________________________________________________________________\n",
            "block3_conv1 (Conv2D)        (None, 56, 56, 256)       295168    \n",
            "_________________________________________________________________\n",
            "block3_conv2 (Conv2D)        (None, 56, 56, 256)       590080    \n",
            "_________________________________________________________________\n",
            "block3_conv3 (Conv2D)        (None, 56, 56, 256)       590080    \n",
            "_________________________________________________________________\n",
            "block3_pool (MaxPooling2D)   (None, 28, 28, 256)       0         \n",
            "_________________________________________________________________\n",
            "block4_conv1 (Conv2D)        (None, 28, 28, 512)       1180160   \n",
            "_________________________________________________________________\n",
            "block4_conv2 (Conv2D)        (None, 28, 28, 512)       2359808   \n",
            "_________________________________________________________________\n",
            "block4_conv3 (Conv2D)        (None, 28, 28, 512)       2359808   \n",
            "_________________________________________________________________\n",
            "block4_pool (MaxPooling2D)   (None, 14, 14, 512)       0         \n",
            "_________________________________________________________________\n",
            "block5_conv1 (Conv2D)        (None, 14, 14, 512)       2359808   \n",
            "_________________________________________________________________\n",
            "block5_conv2 (Conv2D)        (None, 14, 14, 512)       2359808   \n",
            "_________________________________________________________________\n",
            "block5_conv3 (Conv2D)        (None, 14, 14, 512)       2359808   \n",
            "_________________________________________________________________\n",
            "block5_pool (MaxPooling2D)   (None, 7, 7, 512)         0         \n",
            "_________________________________________________________________\n",
            "flatten (Flatten)            (None, 25088)             0         \n",
            "_________________________________________________________________\n",
            "fc1 (Dense)                  (None, 4096)              102764544 \n",
            "_________________________________________________________________\n",
            "fc2 (Dense)                  (None, 4096)              16781312  \n",
            "_________________________________________________________________\n",
            "predictions (Dense)          (None, 1000)              4097000   \n",
            "=================================================================\n",
            "Total params: 138,357,544\n",
            "Trainable params: 138,357,544\n",
            "Non-trainable params: 0\n",
            "_________________________________________________________________\n"
          ],
          "name": "stdout"
        }
      ]
    },
    {
      "cell_type": "code",
      "metadata": {
        "id": "2FJ8u8CbdnAB"
      },
      "source": [
        "#vector = model.get_layer(\"reshape_2\").output\n",
        "vector = model.get_layer(\"fc2\").output\n",
        "feature_extractor = tf.keras.Model(model.input, vector)"
      ],
      "execution_count": 5,
      "outputs": []
    },
    {
      "cell_type": "code",
      "metadata": {
        "id": "knQm4klhdsL8"
      },
      "source": [
        "# create empty feature and label lists\n",
        "X_list_train = []\n",
        "Y_list_train = []\n",
        "\n",
        "for f in range(3):    \n",
        "    folder_path = os.path.join(path_train, classes[f])\n",
        "    for file in os.listdir(folder_path):    \n",
        "        file_path = os.path.join(folder_path, file)\n",
        "        \n",
        "        # check file extension, skip file if not jpg\n",
        "        if not(file.endswith(\".jpg\")):\n",
        "            continue\n",
        "        \n",
        "        # load image\n",
        "        img = image.load_img(file_path, target_size=(224,224))\n",
        "        # convert image to numpy array\n",
        "        img_arr = image.img_to_array(img)\n",
        "        # add 1 more dimension\n",
        "        img_arr_b = np.expand_dims(img_arr, axis=0)\n",
        "        # preprocess image\n",
        "        input_img = preprocess_input(img_arr_b)\n",
        "        # extract feature\n",
        "        feature_vec = feature_extractor.predict(input_img)\n",
        "    \n",
        "        X_list_train.append(feature_vec.ravel())\n",
        "        Y_list_train.append(f)"
      ],
      "execution_count": 6,
      "outputs": []
    },
    {
      "cell_type": "code",
      "metadata": {
        "id": "B8UO0JN5eLY6"
      },
      "source": [
        "# create empty feature and label lists\n",
        "X_list_test = []\n",
        "Y_list_test = []\n",
        "\n",
        "for f in range(3):    \n",
        "    folder_path = os.path.join(path_test, classes[f])\n",
        "    for file in os.listdir(folder_path):    \n",
        "        file_path = os.path.join(folder_path, file)\n",
        "        \n",
        "        # check file extension, skip file if not jpg\n",
        "        if not(file.endswith(\".jpg\")):\n",
        "            continue\n",
        "        \n",
        "        # load image\n",
        "        img = image.load_img(file_path, target_size=(224,224))\n",
        "        # convert image to numpy array\n",
        "        img_arr = image.img_to_array(img)\n",
        "        # add 1 more dimension\n",
        "        img_arr_b = np.expand_dims(img_arr, axis=0)\n",
        "        # preprocess image\n",
        "        input_img = preprocess_input(img_arr_b)\n",
        "        # extract feature\n",
        "        feature_vec = feature_extractor.predict(input_img)\n",
        "    \n",
        "        X_list_test.append(feature_vec.ravel())\n",
        "        Y_list_test.append(f)"
      ],
      "execution_count": 7,
      "outputs": []
    },
    {
      "cell_type": "code",
      "metadata": {
        "id": "TwPsD1Wke4qU",
        "outputId": "f3aa1a3d-806e-42c4-f248-6ee9718c2121",
        "colab": {
          "base_uri": "https://localhost:8080/"
        }
      },
      "source": [
        "train_X = np.asarray(X_list_train, dtype=np.float32)\n",
        "train_Y = np.asarray(Y_list_train, dtype=np.float32)\n",
        "\n",
        "test_X = np.asarray(X_list_test, dtype=np.float32)\n",
        "test_Y = np.asarray(Y_list_test, dtype=np.float32)\n",
        "\n",
        "print(\"Shape of train_X\")\n",
        "print(train_X.shape)\n",
        "print(\"\\nShape of test_X\")\n",
        "print(test_X.shape)\n"
      ],
      "execution_count": 10,
      "outputs": [
        {
          "output_type": "stream",
          "text": [
            "Shape of train_X\n",
            "(563, 4096)\n",
            "\n",
            "Shape of test_X\n",
            "(63, 4096)\n"
          ],
          "name": "stdout"
        }
      ]
    },
    {
      "cell_type": "code",
      "metadata": {
        "id": "EJ6E7j2SfcjA",
        "outputId": "26691ec4-88f0-44d0-c56a-1cc0dfcd8fc4",
        "colab": {
          "base_uri": "https://localhost:8080/"
        }
      },
      "source": [
        "svm_lin = svm.SVC(C=1.0, kernel=\"linear\")\n",
        "svm_lin.fit(train_X, train_Y)\n",
        "y_pred = svm_lin.predict(test_X)\n",
        "print(classification_report(test_Y, y_pred,\n",
        "                            target_names=classes))"
      ],
      "execution_count": 12,
      "outputs": [
        {
          "output_type": "stream",
          "text": [
            "              precision    recall  f1-score   support\n",
            "\n",
            "    circular       0.86      0.86      0.86        21\n",
            "  falciforme       0.86      0.86      0.86        21\n",
            "      outras       0.71      0.71      0.71        21\n",
            "\n",
            "    accuracy                           0.81        63\n",
            "   macro avg       0.81      0.81      0.81        63\n",
            "weighted avg       0.81      0.81      0.81        63\n",
            "\n"
          ],
          "name": "stdout"
        }
      ]
    },
    {
      "cell_type": "code",
      "metadata": {
        "id": "Pj0Ekvs4fhaT",
        "outputId": "d9cca033-e3a7-4471-e6a2-087c3ce9bf5d",
        "colab": {
          "base_uri": "https://localhost:8080/"
        }
      },
      "source": [
        "svm_nlin = svm.SVC(C=1.0, kernel=\"rbf\")\n",
        "svm_nlin.fit(train_X, train_Y)\n",
        "y_pred = svm_nlin.predict(test_X)\n",
        "print(classification_report(test_Y, y_pred,\n",
        "                            target_names=classes))"
      ],
      "execution_count": 13,
      "outputs": [
        {
          "output_type": "stream",
          "text": [
            "              precision    recall  f1-score   support\n",
            "\n",
            "    circular       0.62      0.95      0.75        21\n",
            "  falciforme       0.79      0.52      0.63        21\n",
            "      outras       0.71      0.57      0.63        21\n",
            "\n",
            "    accuracy                           0.68        63\n",
            "   macro avg       0.71      0.68      0.67        63\n",
            "weighted avg       0.71      0.68      0.67        63\n",
            "\n"
          ],
          "name": "stdout"
        }
      ]
    },
    {
      "cell_type": "code",
      "metadata": {
        "id": "24KuVGH9jkcC"
      },
      "source": [
        "from sklearn.decomposition import PCA\n",
        "from sklearn.metrics import accuracy_score"
      ],
      "execution_count": 14,
      "outputs": []
    },
    {
      "cell_type": "code",
      "metadata": {
        "id": "9O7Z8sy7jcDT",
        "outputId": "a06f55f1-dfcc-41ca-dc63-6fc1470c7d00",
        "colab": {
          "base_uri": "https://localhost:8080/"
        }
      },
      "source": [
        "# Dimensionality reduction - Full PCA\n",
        "im_pca = PCA()\n",
        "im_pca.fit(train_X)\n",
        "variance_explained_list = im_pca.explained_variance_ratio_.cumsum()\n",
        "print(variance_explained_list)"
      ],
      "execution_count": 15,
      "outputs": [
        {
          "output_type": "stream",
          "text": [
            "[0.4354939  0.5361573  0.62935805 0.6962702  0.7403634  0.77328235\n",
            " 0.7955649  0.8167361  0.83203053 0.8445367  0.85635126 0.8663708\n",
            " 0.87440336 0.8818907  0.8882518  0.89374137 0.8990591  0.90386015\n",
            " 0.90818393 0.9123933  0.9162406  0.9197549  0.92282456 0.9256547\n",
            " 0.9284103  0.93095624 0.9333535  0.93560725 0.9377124  0.9396902\n",
            " 0.941574   0.9433923  0.9450085  0.94654894 0.9480273  0.94949615\n",
            " 0.95093364 0.95235497 0.95369935 0.95497346 0.95618397 0.95735705\n",
            " 0.95848405 0.95958334 0.9606511  0.9616905  0.96265006 0.9636003\n",
            " 0.96451396 0.96538633 0.9662177  0.96703154 0.9678036  0.9685552\n",
            " 0.9692606  0.9699525  0.9706347  0.97129935 0.9719471  0.9725676\n",
            " 0.9731525  0.973724   0.97427964 0.9748281  0.975362   0.97587806\n",
            " 0.97639    0.9768819  0.97734755 0.9778065  0.9782513  0.9786946\n",
            " 0.97912407 0.97953546 0.9799329  0.980323   0.98069614 0.9810525\n",
            " 0.98140645 0.98175585 0.9820946  0.9824267  0.9827563  0.98307663\n",
            " 0.98338616 0.98368984 0.9839792  0.9842622  0.98454136 0.98481274\n",
            " 0.98507243 0.9853298  0.9855829  0.98582506 0.9860648  0.9863006\n",
            " 0.98652494 0.98674196 0.98695827 0.9871652  0.9873679  0.9875679\n",
            " 0.98776174 0.9879533  0.98814255 0.9883292  0.98850924 0.98868716\n",
            " 0.9888583  0.98902524 0.98918784 0.9893475  0.9895008  0.989652\n",
            " 0.9897993  0.98994416 0.9900886  0.9902317  0.9903707  0.9905075\n",
            " 0.9906423  0.99077153 0.9908991  0.99102485 0.991147   0.9912681\n",
            " 0.99138635 0.9915034  0.99161994 0.99173224 0.9918425  0.9919494\n",
            " 0.99205524 0.99215835 0.99226034 0.9923611  0.9924594  0.9925559\n",
            " 0.9926502  0.9927423  0.9928328  0.99292266 0.9930118  0.9930994\n",
            " 0.9931861  0.99327207 0.99335754 0.9934392  0.9935208  0.99360055\n",
            " 0.9936789  0.9937558  0.9938318  0.99390596 0.99397886 0.99405146\n",
            " 0.9941227  0.9941926  0.99426156 0.99433    0.994398   0.99446553\n",
            " 0.99453104 0.9945954  0.9946585  0.99472106 0.9947828  0.99484384\n",
            " 0.9949039  0.99496263 0.99502003 0.9950764  0.99513227 0.99518716\n",
            " 0.9952411  0.99529463 0.9953477  0.99540013 0.9954519  0.9955035\n",
            " 0.99555457 0.99560463 0.9956539  0.9957024  0.9957505  0.9957977\n",
            " 0.9958443  0.9958906  0.9959367  0.9959821  0.9960266  0.99607027\n",
            " 0.9961135  0.9961558  0.99619764 0.99623924 0.99627995 0.9963203\n",
            " 0.9963605  0.9963999  0.99643904 0.9964777  0.99651617 0.99655336\n",
            " 0.9965901  0.9966267  0.9966628  0.9966986  0.9967339  0.9967689\n",
            " 0.9968036  0.99683785 0.996872   0.99690515 0.99693775 0.99697024\n",
            " 0.99700236 0.9970342  0.9970657  0.99709696 0.9971279  0.9971582\n",
            " 0.99718827 0.9972177  0.9972469  0.9972758  0.99730414 0.99733216\n",
            " 0.99735993 0.99738747 0.9974149  0.9974418  0.9974685  0.9974949\n",
            " 0.9975211  0.99754685 0.99757236 0.9975974  0.9976222  0.99764675\n",
            " 0.99767095 0.997695   0.9977189  0.99774253 0.99776596 0.9977893\n",
            " 0.99781233 0.9978351  0.99785763 0.99788004 0.9979023  0.99792427\n",
            " 0.99794596 0.9979674  0.99798864 0.99800974 0.9980305  0.9980509\n",
            " 0.9980713  0.99809164 0.9981118  0.9981319  0.9981517  0.99817145\n",
            " 0.99819076 0.99821    0.998229   0.9982479  0.99826646 0.99828494\n",
            " 0.9983032  0.9983212  0.998339   0.9983564  0.99837375 0.9983911\n",
            " 0.9984083  0.99842536 0.99844235 0.9984593  0.99847585 0.9984922\n",
            " 0.99850833 0.9985243  0.99854016 0.9985557  0.9985711  0.99858636\n",
            " 0.99860156 0.99861664 0.9986316  0.9986465  0.99866116 0.99867564\n",
            " 0.99869    0.9987042  0.99871826 0.9987322  0.9987459  0.9987596\n",
            " 0.9987731  0.99878645 0.9987997  0.99881274 0.9988257  0.9988386\n",
            " 0.99885136 0.9988638  0.9988762  0.99888855 0.99890083 0.998913\n",
            " 0.998925   0.9989369  0.9989486  0.9989602  0.9989717  0.99898314\n",
            " 0.9989945  0.9990057  0.9990167  0.99902767 0.9990386  0.9990494\n",
            " 0.99906003 0.9990705  0.999081   0.9990914  0.9991017  0.99911183\n",
            " 0.9991218  0.9991317  0.9991415  0.99915123 0.9991608  0.99917036\n",
            " 0.99917984 0.99918926 0.99919856 0.9992078  0.9992169  0.9992259\n",
            " 0.99923486 0.99924374 0.99925256 0.9992613  0.99927    0.9992786\n",
            " 0.9992871  0.99929553 0.9993039  0.99931216 0.9993204  0.99932843\n",
            " 0.9993364  0.99934435 0.9993522  0.99936    0.9993678  0.9993754\n",
            " 0.9993829  0.99939036 0.9993977  0.999405   0.99941224 0.9994194\n",
            " 0.9994264  0.9994334  0.9994403  0.99944717 0.9994539  0.99946064\n",
            " 0.9994673  0.9994739  0.9994805  0.9994869  0.99949336 0.9994997\n",
            " 0.99950594 0.99951214 0.99951833 0.99952435 0.9995304  0.99953634\n",
            " 0.99954224 0.99954814 0.999554   0.99955976 0.9995655  0.99957114\n",
            " 0.99957675 0.9995823  0.9995877  0.9995931  0.99959844 0.99960375\n",
            " 0.99960893 0.9996141  0.9996193  0.9996244  0.9996294  0.9996344\n",
            " 0.99963933 0.9996442  0.9996491  0.99965394 0.9996587  0.9996634\n",
            " 0.99966806 0.9996727  0.9996773  0.9996819  0.99968636 0.99969083\n",
            " 0.99969524 0.9996996  0.99970394 0.99970824 0.99971247 0.9997167\n",
            " 0.9997209  0.999725   0.9997291  0.99973315 0.9997372  0.99974114\n",
            " 0.9997451  0.99974895 0.9997528  0.9997567  0.9997605  0.9997642\n",
            " 0.9997679  0.9997716  0.99977523 0.99977875 0.99978226 0.9997857\n",
            " 0.9997892  0.9997926  0.9997959  0.99979925 0.99980253 0.9998058\n",
            " 0.999809   0.99981225 0.9998154  0.99981856 0.9998217  0.99982476\n",
            " 0.9998278  0.9998308  0.9998337  0.9998366  0.9998395  0.99984235\n",
            " 0.99984515 0.99984795 0.9998507  0.99985343 0.9998561  0.9998588\n",
            " 0.9998614  0.99986404 0.9998666  0.99986917 0.9998717  0.9998741\n",
            " 0.99987656 0.99987894 0.9998813  0.99988365 0.999886   0.99988824\n",
            " 0.9998905  0.9998927  0.9998949  0.99989706 0.9998992  0.9999013\n",
            " 0.9999034  0.99990547 0.9999075  0.9999095  0.99991155 0.9999135\n",
            " 0.9999154  0.9999173  0.99991924 0.9999211  0.99992293 0.9999248\n",
            " 0.99992657 0.9999283  0.99993    0.99993175 0.9999334  0.9999351\n",
            " 0.99993676 0.99993837 0.99994    0.9999415  0.9999431  0.9999446\n",
            " 0.9999461  0.9999476  0.9999491  0.9999505  0.99995196 0.9999534\n",
            " 0.99995476 0.99995613 0.9999575  0.9999588  0.9999601  0.99996144\n",
            " 0.9999627  0.99996394 0.9999652  0.9999664  0.9999676  0.9999687\n",
            " 0.99996984 0.999971   0.99997205 0.9999731  0.9999742  0.9999752\n",
            " 0.9999762  0.99997723 0.99997824 0.9999792  0.99998015 0.9999811\n",
            " 0.999982   0.9999829  0.9999838  0.9999847  0.9999856  0.9999864\n",
            " 0.99998724 0.9999881  0.99998885 0.9999896  0.9999904  0.9999912\n",
            " 0.9999919  0.9999926  0.99999326 0.9999939  0.9999946  0.9999952\n",
            " 0.99999577 0.99999636 0.99999696 0.9999975  0.99999803 0.99999857\n",
            " 0.99999905 0.9999995  0.99999994 1.0000004  1.0000004 ]\n"
          ],
          "name": "stdout"
        }
      ]
    },
    {
      "cell_type": "code",
      "metadata": {
        "id": "0es6KHiGjl3A"
      },
      "source": [
        "test_x_pca = im_pca.transform(test_X)\n",
        "train_x_pca = im_pca.transform(train_X)"
      ],
      "execution_count": 16,
      "outputs": []
    },
    {
      "cell_type": "code",
      "metadata": {
        "id": "NBW5hrD2pCsz",
        "outputId": "9971cc65-43c0-4671-8411-d3d462925b98",
        "colab": {
          "base_uri": "https://localhost:8080/"
        }
      },
      "source": [
        "# Support vector machine with PCA\n",
        "def svm_grid_search(C, kernel, train_X, train_Y):\n",
        "    accuracy_score_list = []\n",
        "    \n",
        "    for c in C:\n",
        "        # Model training\n",
        "        svmClassifier = svm.SVC(C = c, kernel = kernel)\n",
        "        svmClassifier.fit(train_X, train_Y.ravel())\n",
        "        # Prediction on test set\n",
        "        pred_y = svmClassifier.predict(train_X)\n",
        "        # Accuracy\n",
        "        accuracy = accuracy_score(train_Y, pred_y)\n",
        "        accuracy_score_list.append(accuracy)\n",
        "        print('Regularization parameters: ', c, 'Accuracy', accuracy)\n",
        "    \n",
        "    max_accurarcy_id = accuracy_score_list.index(max(accuracy_score_list))\n",
        "    return C[max_accurarcy_id] \n",
        "\n",
        "C, kernel = [0.1 * i for i in range(1, 30)], 'rbf'\n",
        "opt_C = svm_grid_search(C, kernel, train_x_pca, train_Y)"
      ],
      "execution_count": 17,
      "outputs": [
        {
          "output_type": "stream",
          "text": [
            "Regularization parameters:  0.1 Accuracy 0.7158081705150977\n",
            "Regularization parameters:  0.2 Accuracy 0.7815275310834814\n",
            "Regularization parameters:  0.30000000000000004 Accuracy 0.8117229129662522\n",
            "Regularization parameters:  0.4 Accuracy 0.822380106571936\n",
            "Regularization parameters:  0.5 Accuracy 0.8383658969804618\n",
            "Regularization parameters:  0.6000000000000001 Accuracy 0.8525754884547069\n",
            "Regularization parameters:  0.7000000000000001 Accuracy 0.8650088809946714\n",
            "Regularization parameters:  0.8 Accuracy 0.8685612788632326\n",
            "Regularization parameters:  0.9 Accuracy 0.8774422735346359\n",
            "Regularization parameters:  1.0 Accuracy 0.8845470692717584\n",
            "Regularization parameters:  1.1 Accuracy 0.8880994671403197\n",
            "Regularization parameters:  1.2000000000000002 Accuracy 0.9005328596802842\n",
            "Regularization parameters:  1.3 Accuracy 0.9058614564831261\n",
            "Regularization parameters:  1.4000000000000001 Accuracy 0.9094138543516874\n",
            "Regularization parameters:  1.5 Accuracy 0.9182948490230906\n",
            "Regularization parameters:  1.6 Accuracy 0.9218472468916519\n",
            "Regularization parameters:  1.7000000000000002 Accuracy 0.9236234458259325\n",
            "Regularization parameters:  1.8 Accuracy 0.9253996447602132\n",
            "Regularization parameters:  1.9000000000000001 Accuracy 0.9271758436944938\n",
            "Regularization parameters:  2.0 Accuracy 0.9307282415630551\n",
            "Regularization parameters:  2.1 Accuracy 0.9325044404973357\n",
            "Regularization parameters:  2.2 Accuracy 0.9360568383658969\n",
            "Regularization parameters:  2.3000000000000003 Accuracy 0.9378330373001776\n",
            "Regularization parameters:  2.4000000000000004 Accuracy 0.9413854351687388\n",
            "Regularization parameters:  2.5 Accuracy 0.9431616341030196\n",
            "Regularization parameters:  2.6 Accuracy 0.9484902309058615\n",
            "Regularization parameters:  2.7 Accuracy 0.9484902309058615\n",
            "Regularization parameters:  2.8000000000000003 Accuracy 0.9502664298401421\n",
            "Regularization parameters:  2.9000000000000004 Accuracy 0.9573712255772646\n"
          ],
          "name": "stdout"
        }
      ]
    },
    {
      "cell_type": "code",
      "metadata": {
        "id": "2Dyz5wgJkEBp",
        "outputId": "7f0628f9-ff95-4ad2-9bc4-79c42f37218c",
        "colab": {
          "base_uri": "https://localhost:8080/"
        }
      },
      "source": [
        "# Test set\n",
        "svmClassifier = svm.SVC(C = opt_C, kernel = kernel)\n",
        "svmClassifier.fit(train_x_pca, train_Y.ravel())\n",
        "pred_y = svmClassifier.predict(test_x_pca)\n",
        "accuracy = accuracy_score(test_Y, pred_y)\n",
        "#print(accuracy)\n",
        "print(classification_report(test_Y, pred_y,\n",
        "                            target_names=classes))"
      ],
      "execution_count": 19,
      "outputs": [
        {
          "output_type": "stream",
          "text": [
            "              precision    recall  f1-score   support\n",
            "\n",
            "    circular       0.90      0.86      0.88        21\n",
            "  falciforme       0.87      0.95      0.91        21\n",
            "      outras       0.80      0.76      0.78        21\n",
            "\n",
            "    accuracy                           0.86        63\n",
            "   macro avg       0.86      0.86      0.86        63\n",
            "weighted avg       0.86      0.86      0.86        63\n",
            "\n"
          ],
          "name": "stdout"
        }
      ]
    }
  ]
}